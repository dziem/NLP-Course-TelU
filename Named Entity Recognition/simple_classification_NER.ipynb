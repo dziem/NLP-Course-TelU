{
  "nbformat": 4,
  "nbformat_minor": 0,
  "metadata": {
    "colab": {
      "name": "simple_classification_NER.ipynb",
      "provenance": [],
      "collapsed_sections": []
    },
    "kernelspec": {
      "name": "python3",
      "display_name": "Python 3"
    }
  },
  "cells": [
    {
      "cell_type": "code",
      "metadata": {
        "id": "QZGMosCpEe4P",
        "colab_type": "code",
        "outputId": "db0e0e1f-3153-4b71-ca72-2f92c16ab8ca",
        "colab": {
          "base_uri": "https://localhost:8080/",
          "height": 216
        }
      },
      "source": [
        "!pip install weighted_levenshtein"
      ],
      "execution_count": 0,
      "outputs": [
        {
          "output_type": "stream",
          "text": [
            "Collecting weighted_levenshtein\n",
            "\u001b[?25l  Downloading https://files.pythonhosted.org/packages/7d/f2/17dfcf4d36abf33c8b50a664bf64685f6ba37cb477f96433a04835c7c84b/weighted_levenshtein-0.2.1.tar.gz (129kB)\n",
            "\r\u001b[K     |██▌                             | 10kB 17.6MB/s eta 0:00:01\r\u001b[K     |█████                           | 20kB 1.8MB/s eta 0:00:01\r\u001b[K     |███████▋                        | 30kB 2.6MB/s eta 0:00:01\r\u001b[K     |██████████▏                     | 40kB 1.7MB/s eta 0:00:01\r\u001b[K     |████████████▋                   | 51kB 2.1MB/s eta 0:00:01\r\u001b[K     |███████████████▏                | 61kB 2.5MB/s eta 0:00:01\r\u001b[K     |█████████████████▊              | 71kB 2.9MB/s eta 0:00:01\r\u001b[K     |████████████████████▎           | 81kB 2.2MB/s eta 0:00:01\r\u001b[K     |██████████████████████▉         | 92kB 2.5MB/s eta 0:00:01\r\u001b[K     |█████████████████████████▎      | 102kB 2.8MB/s eta 0:00:01\r\u001b[K     |███████████████████████████▉    | 112kB 2.8MB/s eta 0:00:01\r\u001b[K     |██████████████████████████████▍ | 122kB 2.8MB/s eta 0:00:01\r\u001b[K     |████████████████████████████████| 133kB 2.8MB/s \n",
            "\u001b[?25hBuilding wheels for collected packages: weighted-levenshtein\n",
            "  Building wheel for weighted-levenshtein (setup.py) ... \u001b[?25l\u001b[?25hdone\n",
            "  Created wheel for weighted-levenshtein: filename=weighted_levenshtein-0.2.1-cp36-cp36m-linux_x86_64.whl size=317509 sha256=304fd2d3731e7e9cf796f585fd85bc2e8cdd687433f6090c65a02e9732980e48\n",
            "  Stored in directory: /root/.cache/pip/wheels/4c/dc/42/4e97d36cc6241cc01c5ec7869021ad487037f987102e11b6a3\n",
            "Successfully built weighted-levenshtein\n",
            "Installing collected packages: weighted-levenshtein\n",
            "Successfully installed weighted-levenshtein-0.2.1\n"
          ],
          "name": "stdout"
        }
      ]
    },
    {
      "cell_type": "code",
      "metadata": {
        "id": "9lnDEzHbEpVe",
        "colab_type": "code",
        "outputId": "32764049-2cad-426c-a271-f225a459f8dc",
        "colab": {
          "base_uri": "https://localhost:8080/",
          "height": 126
        }
      },
      "source": [
        "from google.colab import drive\n",
        "drive.mount('/content/drive')\n",
        "folder = '/content/drive/My Drive/ner/'"
      ],
      "execution_count": 0,
      "outputs": [
        {
          "output_type": "stream",
          "text": [
            "Go to this URL in a browser: https://accounts.google.com/o/oauth2/auth?client_id=947318989803-6bn6qk8qdgf4n4g3pfee6491hc0brc4i.apps.googleusercontent.com&redirect_uri=urn%3aietf%3awg%3aoauth%3a2.0%3aoob&response_type=code&scope=email%20https%3a%2f%2fwww.googleapis.com%2fauth%2fdocs.test%20https%3a%2f%2fwww.googleapis.com%2fauth%2fdrive%20https%3a%2f%2fwww.googleapis.com%2fauth%2fdrive.photos.readonly%20https%3a%2f%2fwww.googleapis.com%2fauth%2fpeopleapi.readonly\n",
            "\n",
            "Enter your authorization code:\n",
            "··········\n",
            "Mounted at /content/drive\n"
          ],
          "name": "stdout"
        }
      ]
    },
    {
      "cell_type": "code",
      "metadata": {
        "id": "cxrVliiBEjED",
        "colab_type": "code",
        "colab": {}
      },
      "source": [
        "from weighted_levenshtein import lev, osa, dam_lev\n",
        "from string import ascii_lowercase\n",
        "from itertools import chain\n",
        "import nltk\n",
        "from sklearn.metrics import classification_report, confusion_matrix\n",
        "from sklearn.preprocessing import LabelBinarizer\n",
        "import sklearn\n",
        "from sklearn.feature_extraction import DictVectorizer\n",
        "from sklearn.feature_extraction.text import HashingVectorizer\n",
        "import numpy as np"
      ],
      "execution_count": 0,
      "outputs": []
    },
    {
      "cell_type": "code",
      "metadata": {
        "id": "zPNJy1jnE-jc",
        "colab_type": "code",
        "colab": {}
      },
      "source": [
        "# baca file train dan test\n",
        "train_lines = []\n",
        "test_lines = []\n",
        "with open(folder+'dataTrain.txt', 'r') as f:\n",
        "    train_lines = f.readlines()\n",
        "with open(folder+'kalimat_POSTag.txt', 'r') as f:\n",
        "    test_lines = f.readlines()"
      ],
      "execution_count": 0,
      "outputs": []
    },
    {
      "cell_type": "code",
      "metadata": {
        "id": "A7vvOzgNE2Ur",
        "colab_type": "code",
        "colab": {}
      },
      "source": [
        "#baca file list/gazeteer\n",
        "per_list = []\n",
        "flist = open(folder+\"per_list.txt\", \"r\")\n",
        "for p in flist:\n",
        "    per_list.append(p[:-1])\n",
        "\n",
        "loc_list = []\n",
        "llist = open(folder+\"loc_list.txt\", \"r\")\n",
        "for l in llist:\n",
        "    loc_list.append(l[:-1])\n",
        "\n",
        "org_list = []\n",
        "olist = open(folder+\"org_list.txt\", \"r\")\n",
        "for o in olist:\n",
        "    org_list.append(o[:-1])"
      ],
      "execution_count": 0,
      "outputs": []
    },
    {
      "cell_type": "code",
      "metadata": {
        "id": "BJkJKMX3HVRi",
        "colab_type": "code",
        "outputId": "064f509a-7453-42c5-bb5d-51824c849925",
        "colab": {
          "base_uri": "https://localhost:8080/",
          "height": 35
        }
      },
      "source": [
        "#fungsi list lookup with edit distance\n",
        "alfha = 0.4\n",
        "threshold = 20\n",
        "\n",
        "insert_costs = np.full(128, 100, dtype=np.float64)\n",
        "insert_costs[ord('-')] = 10\n",
        "insert_costs[ord(' ')] = 10\n",
        "\n",
        "delete_costs = np.full(128, 100, dtype=np.float64)\n",
        "delete_costs[ord('-')] = 10\n",
        "delete_costs[ord(' ')] = 10\n",
        "\n",
        "substitute_costs = np.full((128,128), 50, dtype=np.float64)\n",
        "for c in ascii_lowercase:\n",
        "\tsubstitute_costs[ord(c), ord(c.capitalize())] = 10\n",
        "\tsubstitute_costs[ord(c), ord(c)] = 0\n",
        "\tsubstitute_costs[ord(c.capitalize()), ord(c)] = 10\n",
        "\tsubstitute_costs[ord(c.capitalize()), ord(c.capitalize())] = 0\n",
        "substitute_costs[ord('-'), ord(' ')] = 10\n",
        "substitute_costs[ord(' '), ord('-')] = 10\n",
        "for i in range(10):\n",
        "\tfor j in range(10):\n",
        "\t\tif i == j:\n",
        "\t\t\tsubstitute_costs[ord(str(i)), ord(str(j))] = 0\n",
        "\t\t\tsubstitute_costs[ord(str(j)), ord(str(i))] = 0\n",
        "\t\telse:\n",
        "\t\t\tsubstitute_costs[ord(str(i)), ord(str(j))] = 10\n",
        "\t\t\tsubstitute_costs[ord(str(j)), ord(str(i))] = 10\n",
        "\n",
        "def edit_distance_normalized_cost(word, target):\n",
        "\tcost = lev(word, target, insert_costs=insert_costs, delete_costs=delete_costs, substitute_costs=substitute_costs)\n",
        "\treturn (cost + alfha) / len(target)\n",
        "\n",
        "def check_under_threshold(cost):\n",
        "\tif cost <= threshold:\n",
        "\t\treturn True\n",
        "\telse:\n",
        "\t\treturn False\n",
        "\n",
        "def check_list(sentence, pos, list):\n",
        "  words = sentence.split()\n",
        "  candidate = []\n",
        "  candidate.append(words[pos])\n",
        "  if pos >= 0:\n",
        "    if pos < (len(words) - 1):\n",
        "      candidate.append(words[pos] + \" \" + words[pos + 1])\n",
        "    if pos < (len(words) - 2):\n",
        "      candidate.append(words[pos] + \" \" + words[pos + 1] + \" \" + words[pos + 2])\n",
        "  if (pos - 1) >= 0:\n",
        "    candidate.append(words[pos - 1] + \" \" + words[pos])\n",
        "    if pos < (len(words) - 1):\n",
        "      candidate.append(words[pos - 1] + \" \" + words[pos] + \" \" + words[pos + 1])\n",
        "    if pos < (len(words) - 2):\n",
        "      candidate.append(words[pos - 1] + \" \" + words[pos] + \" \" + words[pos + 1] + \" \" + words[pos + 2])\n",
        "  if (pos - 2) >= 0:\n",
        "    candidate.append(words[pos - 2] + \" \" + words[pos - 1] + \" \" + words[pos])\n",
        "    if pos < (len(words) - 1):\n",
        "      candidate.append(words[pos - 2] + \" \" + words[pos - 1] + \" \" + words[pos] + \" \" + words[pos + 1])\n",
        "    if pos < (len(words) - 2):\n",
        "      candidate.append(words[pos - 2] + \" \" + words[pos - 1] + \" \" + words[pos] + \" \" + words[pos + 1] + \" \" + words[pos + 2])\n",
        "  exist = False\n",
        "  for l in list:\n",
        "    for c in candidate:\n",
        "      if check_under_threshold(edit_distance_normalized_cost(c,l)) :\n",
        "        exist = True\n",
        "        break\n",
        "  return exist\n",
        "print(check_list('Universitas Gadjah Mada',0,org_list))"
      ],
      "execution_count": 0,
      "outputs": [
        {
          "output_type": "stream",
          "text": [
            "True\n"
          ],
          "name": "stdout"
        }
      ]
    },
    {
      "cell_type": "code",
      "metadata": {
        "id": "UoL4t_dVFAmH",
        "colab_type": "code",
        "colab": {}
      },
      "source": [
        "# fungsi untuk konversi label NE\n",
        "def convert_label(raw_ne):\n",
        "    new_label = 0\n",
        "    if (raw_ne=='B-PER'): new_label = 1\n",
        "    if (raw_ne=='I-PER'): new_label = 2\n",
        "    if (raw_ne=='B-ORG'): new_label = 3\n",
        "    if (raw_ne=='I-ORG'): new_label = 4\n",
        "    if (raw_ne=='B-LOC'): new_label = 5\n",
        "    if (raw_ne=='I-LOC'): new_label = 6\n",
        "    return new_label"
      ],
      "execution_count": 0,
      "outputs": []
    },
    {
      "cell_type": "code",
      "metadata": {
        "id": "z-lUtymgHPPX",
        "colab_type": "code",
        "colab": {}
      },
      "source": [
        "# inisialisasi kode token dan postag\n",
        "token_dict = {}\n",
        "postag_dict = {}\n",
        "counter_token = 0\n",
        "counter_postag = 0"
      ],
      "execution_count": 0,
      "outputs": []
    },
    {
      "cell_type": "code",
      "metadata": {
        "id": "5w2gblH4M73A",
        "colab_type": "code",
        "colab": {}
      },
      "source": [
        "# baca data token, postag, dan label NE\n",
        "train_sents = []\n",
        "test_sents = []\n",
        "sent = []\n",
        "counter = 0\n",
        "# data train\n",
        "for line in train_lines:\n",
        "    line = line.rstrip('\\n')\n",
        "    curr_tuple = ()\n",
        "    if len(line)>1:\n",
        "        line_part = line.split(\" \")\n",
        "        t = (line_part[0], line_part[1], convert_label(line_part[2]))\n",
        "        if line_part[0].lower() not in token_dict.keys():\n",
        "            token_dict[line_part[0].lower()] = counter_token\n",
        "            counter_token = counter_token+1\n",
        "        if line_part[1] not in postag_dict.keys():\n",
        "            postag_dict[line_part[1]] = counter_postag\n",
        "            counter_postag = counter_postag+1\n",
        "        #print(t)\n",
        "        sent.append(t)\n",
        "    else:\n",
        "        #print(\"train sent = \")\n",
        "        #print(sent)\n",
        "        train_sents.append(sent)\n",
        "        sent = []\n",
        "        counter = counter+1\n",
        "\n",
        "# data test\n",
        "counter = 0\n",
        "sent = []\n",
        "for line in test_lines:\n",
        "    line = line.rstrip('\\n')\n",
        "    curr_tuple = ()\n",
        "    if len(line)>1:\n",
        "        line_part = line.split(\" \")\n",
        "        t = (line_part[0], line_part[1])\n",
        "        #print(t)\n",
        "        sent.append(t)\n",
        "    else:\n",
        "        #print(\"test sent = \")\n",
        "        #print(sent)\n",
        "        test_sents.append(sent)\n",
        "        sent = []\n",
        "        counter = counter+1"
      ],
      "execution_count": 0,
      "outputs": []
    },
    {
      "cell_type": "code",
      "metadata": {
        "id": "sTqyZiAvM-yJ",
        "colab_type": "code",
        "outputId": "4bf78735-84b5-4991-9796-16715ed7f173",
        "colab": {
          "base_uri": "https://localhost:8080/",
          "height": 55
        }
      },
      "source": [
        "# kode untuk token/kata dan postag yang tidak muncul di data training, namun muncul di data testing\n",
        "token_dict['unk'] = 9999\n",
        "postag_dict['unk'] = 9999"
      ],
      "execution_count": 0,
      "outputs": [
        {
          "output_type": "stream",
          "text": [
            "[[('Pengamat', 'NN'), ('politik', 'NN'), ('dari', 'IN'), ('Universitas', 'NN'), ('Gadjah', 'NNP'), ('Mada', 'NNP'), (',', ','), ('Arie', 'NNP'), ('Sudjito', 'NNP'), (',', ','), ('menilai', 'VBT'), (',', ','), ('keinginan', 'NN'), ('Ketua', 'NN'), ('Umum', 'JJ'), ('Partai', 'NN'), ('Golkar', 'NNP'), ('Aburizal', 'NNP'), ('Bakrie', 'NNP'), ('untuk', 'IN'), ('maju', 'VBI'), ('kembali', 'RB'), ('sebagai', 'IN'), ('ketua', 'NN'), ('umum', 'JJ'), ('merupakan', 'VBT'), ('pemaksaan', 'NN'), ('kehendak', 'NN'), ('.', '.')], [('Menurut', 'VBT'), ('dia', 'PRP'), (',', ','), ('ada', 'VBI'), ('kesan', 'NN'), ('bahwa', 'SC'), ('Aburizal', 'NNP'), ('menggunakan', 'VBT'), ('segala', 'RB'), ('cara', 'NN'), ('untuk', 'IN'), ('memuluskan', 'VBT'), ('jalannya', 'NN'), ('kembali', 'RB'), ('menduduki', 'VBT'), ('Golkar', 'NNP'), ('1', 'CDP'), ('.', '.')], [('Hal', 'NN'), ('ini', 'DT'), (',', ','), ('kata', 'VBT'), ('Arie', 'NNP'), (',', ','), ('berpotensi', 'VBI'), ('menimbukan', 'VBT'), ('perpecahan', 'NN'), ('di', 'IN'), ('kalangan', 'NN'), ('kader', 'NN'), ('Golkar', 'NNP'), ('di', 'IN'), ('daerah', 'NN'), ('.', '.')], [('\"', '\"'), ('Tentu', 'RB'), ('ini', 'DT'), ('akan', 'MD'), ('merugikan', 'VBT'), ('Golkar', 'NNP'), ('karena', 'CC'), ('Golkar', 'NNP'), ('akan', 'MD'), ('pecah', 'VBI'), ('dan', 'CC'), ('konflik', 'NN'), ('di', 'IN'), ('daerah', 'NN'), ('dipastikan', 'VBT'), ('akan', 'MD'), ('terjadi,', 'JJ'), ('\"', '\"'), ('ujar', 'VBT'), ('Arie', 'NNP'), (',', ','), ('saat', 'SC'), ('dihubungi', 'VBT'), ('Kompas.com', 'NN'), (',', ','), ('Selasa', 'NN'), ('(', 'OP'), ('2/12/2014)', '12'), ('.', '.')], [('Arie', 'NNP'), ('mengatakan', 'VBI'), (',', ','), ('sikap', 'NN'), ('Aburizal', 'NNP'), ('tersebut', 'DT'), ('ditentang', 'VBT'), ('oleh', 'IN'), ('sebagian', 'CDI'), ('kalangan', 'NN'), ('di', 'IN'), ('internal', 'NN'), ('Golkar', 'NNP'), ('yang', 'SC'), ('melakukan', 'VBT'), ('perlawanan', 'NN'), ('dengan', 'IN'), ('membentuk', 'VBT'), ('Presidium', 'NN'), ('Penyelamat', 'NN'), ('Partai', 'NN'), ('Golkar', 'NNP'), ('.', '.')], [('Selain', 'NN'), ('itu', 'DT'), (',', ','), ('dua', 'CDP'), ('calon', 'NN'), ('ketua', 'NN'), ('umum', 'JJ'), ('menyatakan', 'VBT'), ('mundur', 'VBI'), ('dan', 'CC'), ('tak', 'NEG'), ('akan', 'MD'), ('mencalonkan', 'VBT'), ('diri', 'NN'), ('.', '.')], [('Mereka', 'PRP'), ('adalah', 'VBT'), ('MS', 'NN'), ('Hidayat', 'NN'), ('dan', 'CC'), ('Airlangga', 'FW'), ('Hartarto', 'NN'), ('.', '.')], [('Hidayat', 'NNP'), ('dan', 'CC'), ('Airlangga', 'FW'), ('mundur', 'VBI'), ('karena', 'CC'), ('menganggap', 'VBT'), ('ada', 'VBI'), ('proses', 'NN'), ('yang', 'SC'), ('tidak', 'NEG'), ('demokratis', 'NN'), ('dan', 'CC'), ('tidak', 'NEG'), ('fair', 'JJ'), ('dalam', 'IN'), ('Munas', 'NNP'), ('IX', 'NNP'), ('yang', 'SC'), ('berlangsung', 'VBI'), ('di', 'IN'), ('Bali', 'NNP'), ('.', '.')], [('\"', '\"'), ('Upaya', 'NN'), ('Airlangga', 'FW'), ('serius', 'JJ'), ('bertarung', 'VBI'), (',', ','), ('tapi', 'CC'), ('melihat', 'VBT'), ('gelagat', 'NN'), ('tidak', 'NEG'), ('sehat', 'SC'), (',', ','), ('maka', 'SC'), ('lebih', 'RB'), ('baik', 'JJ'), ('mundur', 'VBI'), ('.', '.'), ('Itu', 'DT'), ('pun', 'RP'), ('jalan', 'NN'), ('moderat,', 'NN'), ('\"', '\"'), ('kata', 'VBT'), ('Arie', 'NNP'), ('.', '.')], [('Dengan', 'IN'), ('mundurnya', 'VBT'), ('Hidayat', 'NNP'), ('dan', 'CC'), ('Airlangga', 'FW'), (',', ','), ('Aburizal', 'NNP'), ('berpotensi', 'VBT'), ('menjadi', 'VBT'), ('calon', 'NN'), ('tunggal', 'JJ'), ('ketua', 'NN'), ('umum', 'JJ'), ('yang', 'SC'), ('akan', 'MD'), ('dipilih', 'VBT'), ('dalam', 'IN'), ('Munas', 'NNP'), ('IX', 'NNP'), ('.', '.')], [('Menurut', 'VBT'), ('Arie', 'NNP'), (',', ','), ('jika', 'SC'), ('Aburizal', 'NNP'), ('terus', 'RB'), ('memaksakan', 'VBT'), ('kehendaknya', 'NN'), (',', ','), ('bukan', 'NEG'), ('tidak', 'NEG'), ('mungkin', 'RB'), ('Golkar', 'NNP'), ('akan', 'MD'), ('menyusul', 'VBT'), ('Partai', 'NN'), ('Persatuan', 'NN'), ('Pembangunan', 'NN'), ('yang', 'SC'), ('terpecah', 'VBI'), ('karena', 'CC'), ('konflik', 'NN'), ('internal', 'NN'), ('.', '.')], [('Arie', 'NNP'), ('mengatakan', 'VBI'), (',', ','), ('para', 'DT'), ('petinggi', 'NN'), ('partai', 'NN'), ('segera', 'RB'), ('melakukan', 'VBT'), ('langkah', 'NN'), ('-', '-'), ('langkah', 'NN'), ('untuk', 'IN'), ('menyelamatkan', 'VBT'), ('partai', 'NN'), ('berlambang', 'VBT'), ('pohon', 'NN'), ('beringin', 'NN'), ('tersebut', 'DT'), ('.', '.')], [('\"', '\"'), ('Ini', 'DT'), ('indikasi', 'NN'), ('atau', 'CC'), ('tanda', 'NN'), ('-', '-'), ('tanda', 'NN'), ('kebangkrutan', 'NN'), ('Golkar,', 'NNP'), ('\"', '\"'), ('kata', 'VBT'), ('Arie', 'NNP'), ('.', '.')], [('Wakil', 'NN'), ('Ketua', 'NN'), ('DPR', 'NN'), ('Fadli', 'NNP'), ('Zon', 'NNP'), ('mengkritik', 'VBT'), ('pemerintahan', 'NN'), ('Joko', 'NNP'), ('Widodo', 'NNP'), ('yang', 'SC'), ('dinilainya', 'NN'), ('lambat', 'JJ'), ('dalam', 'IN'), ('melakukan', 'VBT'), ('eksekusi', 'NN'), ('terhadap', 'IN'), ('para', 'DT'), ('terpidana', 'VBI'), ('mati', 'VBI'), ('kasus', 'NN'), ('narkoba', 'NN'), ('.', '.')], [('Menurut', 'VBT'), ('Fadli', 'NNP'), (',', ','), ('semakin', 'RB'), ('cepat', 'JJ'), ('eksekusi', 'NN'), ('dilakukan', 'VBT'), (',', ','), ('hal', 'NN'), ('itu', 'DT'), ('akan', 'MD'), ('semakin', 'RB'), ('baik', 'JJ'), ('.', '.')], [('\"', '\"'), ('Pemerintah', 'NN'), ('lambat', 'JJ'), (',', ','), ('eksekusi', 'NN'), ('lambat', 'JJ'), (',', ','), ('eksekusi', 'NN'), ('kapan', 'WP'), ('tidak', 'NEG'), ('jelas', 'JJ'), ('karena', 'CC'), ('lambatnya', 'NN'), ('pemerintah', 'NN'), ('mengambil', 'VBT'), ('keputusan,', 'NN'), ('\"', '\"'), ('kata', 'VBT'), ('Fadil', 'NNP'), ('Zon', 'NNP'), ('di', 'IN'), ('Gedung', 'NN'), ('DPR', 'NN'), (',', ','), ('Senayan', 'NN'), (',', ','), ('Jakarta', 'NNP'), (',', ','), ('Rabu', 'NN'), ('(', 'OP'), ('11/3/2015)', '3'), ('.', '.')], [('Menurut', 'VBT'), ('dia', 'PRP'), (',', ','), ('karena', 'CC'), ('lambatnya', 'NN'), ('eksekusi', 'NN'), ('mati', 'VBI'), ('ini', 'DT'), (',', ','), ('akhirnya', 'RB'), ('terjadi', 'VBI'), ('perlawanan', 'NN'), ('dari', 'IN'), ('berbagai', 'CDI'), ('pihak', 'NN'), (',', ','), ('termasuk', 'VBT'), ('para', 'DT'), ('terpidana', 'VBI'), ('.', '.')], [('Terpidana', 'NNP'), ('mati', 'VBI'), ('kasus', 'NN'), ('narkoba', 'NN'), ('yang', 'SC'), ('merupakan', 'VBT'), ('warga', 'NN'), ('negara', 'NN'), ('Perancis', 'NNP'), (',', ','), ('Serge', 'NNP'), ('Atlaoui', 'NNP'), (',', ','), ('mengajukan', 'VBT'), ('upaya', 'NN'), ('hukum', 'NN'), ('lanjutan', 'NN'), ('berupa', 'VBT'), ('peninjauan', 'NN'), ('kembali', 'RB'), ('ke', 'IN'), ('Pengadilan', 'NN'), ('Negeri', 'NN'), ('Tangerang', 'NN'), ('.', '.')], [('Sebelumnya', 'NNG'), (',', ','), ('terpidana', 'VBI'), ('mati', 'VBI'), ('asal', 'NN'), ('Filipina', 'NNP'), (',', ','), ('Mary', 'NNP'), ('Jane', 'NNP'), ('Fiesta', 'NNP'), ('Veloso', 'NNP'), (',', ','), ('juga', 'RB'), ('telah', 'MD'), ('mengajukan', 'VBT'), ('langkah', 'NN'), ('serupa', 'JJ'), ('.', '.')], [('\"', '\"'), ('Ini', 'DT'), ('membuat', 'VBT'), ('segala', 'RB'), ('macam', 'NN'), ('ekses', 'NN'), ('terjadi', 'VBI'), ('.', '.'), ('Pemerintah', 'NN'), ('harusnya', 'NN'), ('bisa', 'MD'), ('mengambil', 'VBT'), ('sikap', 'NN'), ('dengan', 'IN'), ('cepat,', 'JJ'), ('\"', '\"'), ('ucap', 'NN'), ('politisi', 'NN'), ('Partai', 'NN'), ('Gerindra', 'NN'), ('itu', 'DT'), ('.', '.')], [('Selain', 'NN'), ('perlawanan', 'NN'), ('dari', 'IN'), ('terpidana', 'VBI'), (',', ','), ('menurut', 'VBT'), ('Fadli', 'NNP'), (',', ','), ('Indonesia', 'NNP'), ('juga', 'RB'), ('akan', 'MD'), ('terus', 'RB'), ('mendapatkan', 'VBT'), ('tekanan', 'NN'), ('dari', 'IN'), ('dunia', 'NN'), ('internasional', 'JJ'), ('jika', 'SC'), ('eksekusi', 'NN'), ('mati', 'VBI'), ('terus', 'RB'), ('ditunda', 'VBT'), ('.', '.')], [('Situasi', 'NN'), ('ini', 'DT'), (',', ','), ('menurut', 'VBT'), ('dia', 'PRP'), (',', ','), ('dapat', 'MD'), ('mengganggu', 'VBT'), ('kerja', 'sama'), ('yang', 'SC'), ('selama', 'IN'), ('ini', 'DT'), ('dijalin', 'VBT'), ('dengan', 'IN'), ('negara', 'NN'), ('lainnya', 'NNG'), ('.', '.')], [('\"', '\"'), ('Kita', 'PRP'), ('melihat', 'VBT'), ('negara', 'NN'), ('yang', 'SC'), ('selama', 'IN'), ('ini', 'DT'), ('bersahabat', 'VBI'), (',', ','), ('sekarang', 'NN'), ('negara', 'NN'), ('internasional', 'JJ'), ('semakin', 'RB'), ('memojokkan', 'VBT'), ('kita,', 'PRP'), ('\"', '\"'), ('ucap', 'NN'), ('Fadli', 'NNP'), ('.', '.')], [('Kantor', 'NN'), ('Wilayah', 'NN'), ('Kementerian', 'NN'), ('Hukum', 'NN'), ('dan', 'CC'), ('Hak', 'NN'), ('Asasi', 'NN'), ('Manusia', 'NN'), ('sebelumnya', 'SC'), ('menyatakan', 'VBT'), ('persiapan', 'NN'), ('di', 'IN'), ('Pulau', 'NN'), ('Nusakambangan', 'NNP'), (',', ','), ('Cilacap', 'NNP'), (',', ','), ('sebagai', 'IN'), ('tempat', 'NN'), ('eksekusi', 'NN'), ('para', 'DT'), ('terpidana', 'VBI'), ('mati', 'VBI'), ('telah', 'MD'), ('mencapai', 'VBT'), ('100', 'CDP'), ('persen', 'NN'), ('.', '.')], [('Namun', 'CC'), (',', ','), ('hingga', 'CC'), ('saat', 'NN'), ('ini', 'DT'), ('belum', 'NEG'), ('ada', 'VBI'), ('keputusan', 'NN'), ('mengenai', 'VBT'), ('waktu', 'NN'), ('eksekusi', 'NN'), ('mati', 'VBI'), ('.', '.')], [('Kejaksaan', 'NN'), ('Agung', 'JJ'), ('beberapa', 'CDI'), ('waktu', 'NN'), ('lalu', 'JJ'), ('merilis', 'VBT'), ('10', 'CDP'), ('nama', 'NN'), ('terpidana', 'VBI'), ('mati', 'VBI'), ('kasus', 'NN'), ('narkoba', 'NN'), ('yang', 'SC'), ('akan', 'MD'), ('dieksekusi', 'VBT'), (',', ','), ('yakni', 'VBT'), ('Andrew', 'NNP'), ('Chan', 'NNP'), ('(', 'OP'), ('warga', 'NN'), ('negara', 'NN'), ('Australia)', 'NNP'), (',', ','), ('Myuran', 'NNP'), ('Sukumaran', 'NNP'), ('(', 'OP'), ('Australia)', 'NNP'), (',', ','), ('Raheem', 'NNP'), ('Agbaje', 'NNP'), ('Salami', 'NNP'), ('(', 'OP'), ('Nigeria)', 'NNP'), (',', ','), ('Zainal', 'NNP'), ('Abidin', 'NNP'), ('(', 'OP'), ('Indonesia)', 'NNP'), (',', ','), ('Serge', 'NNP'), ('Areski', 'NNP'), ('Atlaoui', 'NNP'), ('(', 'OP'), ('Perancis)', 'NN'), (',', ','), ('Rodrigo', 'NNP'), ('Gularte', 'NNP'), ('(', 'OP'), ('Brasil)', 'NNP'), (',', ','), ('Silvester', 'NNP'), ('Obiekwe', 'NNP'), ('Nwaolise', 'NN'), ('alias', 'NN'), ('Mustofa', 'NNP'), ('(', 'OP'), ('Nigeria)', 'NNP'), (',', ','), ('Martin', 'NNP'), ('Anderson', 'NNP'), ('alias', 'NN'), ('Belo', 'NNP'), ('(', 'OP'), ('Ghana)', 'NNP'), (',', ','), ('Okwudili', 'NNP'), ('Oyatanze', 'NNP'), ('(', 'OP'), ('Nigeria)', 'NNP'), (',', ','), ('dan', 'CC'), ('Mary', 'NNP'), ('Jane', 'NNP'), ('Fiesta', 'NNP'), ('Veloso', 'NNP'), ('(', 'OP'), ('Filipina)', 'NNP'), ('.', '.')], [('Partai', 'NN'), ('Golkar', 'NNP'), ('menerima', 'VBT'), ('kekalahan', 'NN'), ('pasangan', 'NN'), ('Irianto', 'NNP'), ('MS', 'NNP'), ('Syaifuddin', 'NNP'), ('-', '-'), ('Tatang', 'NNP'), ('Farhanul', 'NNP'), ('Hakim', 'NN'), ('(', 'OP'), ('Irianto', 'NNP'), ('-', '-'), ('Tatang', 'NNP'), (')', 'CP'), ('dalam', 'IN'), ('Pemilu', 'NN'), ('Gubernur', 'NN'), ('dan', 'CC'), ('Wakil', 'NN'), ('Gubernur', 'NN'), ('Jawa', 'NN'), ('Barat', 'NN'), ('.', '.')], [('Berdasarkan', 'VBT'), ('hasil', 'NN'), ('hitung', 'JJ'), ('cepat', 'JJ'), (',', ','), ('pasangan', 'NN'), ('tersebut', 'DT'), ('hanya', 'RB'), ('berada', 'VBI'), ('di', 'IN'), ('urutan', 'NN'), ('keempat', 'CDO'), ('dari', 'IN'), ('lima', 'CDP'), ('pasangan', 'NN'), ('.', '.')], [('\"', '\"'), ('Golkar', 'NNP'), ('menerima', 'VBT'), ('kekalahan', 'NN'), ('ini', 'DT'), ('dengan', 'IN'), ('legowo', 'NN'), ('.', '.'), ('Tentunya', 'NNP'), ('selalu', 'RB'), ('ada', 'VBI'), ('yang', 'SC'), ('kalah', 'NN'), ('dan', 'CC'), ('menang', 'VBT'), ('dalam', 'IN'), ('pesta', 'NN'), ('demokrasi,', 'NN'), ('\"', '\"'), ('kata', 'VBT'), ('Wakil', 'NN'), ('Sekretaris', 'NN'), ('Jenderal', 'NN'), ('DPP', 'NN'), ('Partai', 'NN'), ('Golkar', 'NNP'), ('Nurul', 'NNP'), ('Arifin', 'NNP'), ('di', 'IN'), ('Jakarta', 'NNP'), (',', ','), ('Senin', 'NN'), ('(', 'OP'), ('25/2/2013)', '2'), ('.', '.')], [('Seperti', 'IN'), ('diberitakan', 'VBT'), (',', ','), ('hitung', 'JJ'), ('cepat', 'JJ'), ('Penelitian', 'NN'), ('dan', 'CC'), ('Pengembangan', 'NN'), ('(', 'OP'), ('Litbang', 'NNP'), (')', 'CP'), ('Kompas', 'NNP'), ('menyebutkan', 'VBT'), ('pasangan', 'NN'), ('Irianto', 'NNP'), ('-', '-'), ('Tatang', 'NNP'), ('hanya', 'RB'), ('mendapat', 'VBT'), ('12,35', 'CDP'), ('persen', 'NN'), ('suara', 'NN'), ('.', '.')], [('Di', 'IN'), ('urutan', 'NN'), ('pertama', 'CDO'), (',', ','), ('yakni', 'VBT'), ('pasangan', 'NN'), ('Ahmad', 'NNP'), ('Heryawan', 'NNP'), ('-', '-'), ('Deddy', 'NNP'), ('Mizwar', 'NNP'), ('(', 'OP'), ('Heryawan', 'NNP'), ('-', '-'), ('Deddy', 'NNP'), (')', 'CP'), ('meraih', 'VBT'), ('suara', 'NN'), ('31,45', 'CDP'), ('persen', 'NN'), (',', ','), ('disusul', 'VBT'), ('pasangan', 'NN'), ('Rieke', 'NNP'), ('Diah', 'NNP'), ('Pitaloka', 'NNP'), ('-', '-'), ('Teten', 'NNP'), ('Masduki', 'NNP'), ('(', 'OP'), ('Rieke', 'NNP'), ('-', '-'), ('Teten', 'NNP'), (')', 'CP'), ('sebanyak', 'CDI'), ('29,03', 'CDP'), ('persen', 'NN'), (',', ','), ('Dede', 'NNP'), ('Yusuf', 'NNP'), ('Macan', 'NNP'), ('Efendi', 'NN'), ('-', '-'), ('Lex', 'NNP'), ('Laksamana', 'NNP'), ('28,85', 'CDP'), ('persen', 'NN'), ('suara', 'NN'), ('.', '.')], [('Paling', 'RB'), ('bawah', 'NN'), (',', ','), ('pasangan', 'NN'), ('Dikdik', 'NN'), ('M', 'NNP'), ('Arief', 'NNP'), ('Mansur', 'NNP'), ('-', '-'), ('Cecep', 'NNP'), ('Nana', 'NNP'), ('Suryana', 'NNP'), ('Toyib', 'NNP'), ('(', 'OP'), ('Dikdik', 'NNP'), ('-', '-'), ('Toyib', 'NNP'), (')', 'CP'), ('1,72', 'CDP'), ('persen', 'NN'), ('.', '.')], [('Nurul', 'NNP'), ('mengatakan', 'VBI'), (',', ','), ('pihaknya', 'NNG'), ('sudah', 'MD'), ('berupaya', 'VBI'), ('mengusung', 'VBT'), ('calon', 'NN'), ('terbaik', 'JJ'), ('.', '.')], [('Selain', 'NN'), ('itu', 'DT'), (',', ','), ('kata', 'VBT'), ('dia', 'PRP'), (',', ','), ('mesin', 'VBT'), ('partai', 'NN'), ('juga', 'RB'), ('sudah', 'MD'), ('bekerja', 'VBI'), ('optimal', 'JJ'), ('.', '.')], [('Hanya', 'RB'), ('saja', 'RB'), (',', ','), ('pilihan', 'NN'), ('tetap', 'JJ'), ('ada', 'VBI'), ('di', 'IN'), ('tangan', 'NN'), ('rakyat', 'NN'), ('Jabar', 'NN'), ('.', '.')], [('\"', '\"'), ('Golkar', 'NNP'), ('mengucapkan', 'VBT'), ('selamat', 'NN'), ('kepada', 'IN'), ('pasangan', 'NN'), ('terpilih', 'VBI'), ('.', '.'), ('Semoga', 'NN'), ('dapat', 'MD'), ('menjalankan', 'VBT'), ('amanah', 'NN'), ('rakyat', 'NN'), ('tanpa', 'RB'), ('menyingkirkan', 'VBT'), ('kelompok', 'NN'), ('minoritas', 'NN'), ('yang', 'SC'), ('ada', 'VBI'), ('di', 'IN'), ('Jabar,', 'NNP'), ('\"', '\"'), ('kata', 'VBT'), ('Nurul', 'NNP'), ('.', '.')], [('Nurul', 'NNP'), ('meyakinkan', 'JJ'), (',', ','), ('akan', 'MD'), ('mengobati', 'VBT'), ('kekalahan', 'NN'), ('di', 'IN'), ('Jabar', 'NN'), ('pada', 'IN'), ('pemilu', 'NN'), ('legislatif', 'JJ'), ('2014', 'CDP'), ('.', '.')], [('Pileg', 'NNP'), (',', ','), ('kata', 'VBT'), ('Nurul', 'NNP'), ('lagi', 'RB'), (',', ','), ('tak', 'NEG'), ('bisa', 'MD'), ('disamakan', 'VBT'), ('dengan', 'IN'), ('Pilgub', 'NNP'), ('.', '.')], [('Dalam', 'IN'), ('Pileg', 'NNP'), (',', ','), ('semua', 'CDI'), ('partai', 'NN'), ('dan', 'CC'), ('caleg', 'NN'), ('turun', 'VBI'), ('bersama', 'IN'), ('-', '-'), ('sama', 'JJ'), ('.', '.')], [('\"', '\"'), ('Pasti', 'JJ'), ('lebih', 'RB'), ('kompetitif', 'JJ'), ('.', '.'), ('Dalam', 'IN'), ('survei', 'NN'), ('-', '-'), ('survei', 'NN'), ('Golkar', 'NNP'), ('selalu', 'RB'), ('memimpin', 'VBT'), ('.', '.'), ('Jadi', 'JJ'), (',', ','), ('kami', 'PRP'), ('optimis', 'JJ'), ('dapat', 'MD'), ('memenangkan', 'VBT'), ('pertarungan', 'NN'), ('di', 'IN'), ('Pileg', 'NNP'), ('2014,', 'IN'), ('\"', '\"'), ('Nurul', 'NNP'), ('menegaskan', 'VBT'), ('.', '.')], [('Menkokesra', 'NN'), ('Agung', 'JJ'), ('Laksono', 'NN'), ('yang', 'SC'), ('berasal', 'VBI'), ('dari', 'IN'), ('Partai', 'NN'), ('Golkar', 'NNP'), ('menegaskan', 'VBT'), ('semua', 'CDI'), ('Menteri', 'NN'), ('dari', 'IN'), ('Golkar', 'NNP'), ('sudah', 'MD'), ('menyampaikan', 'VBT'), ('kepada', 'IN'), ('Ketua', 'NN'), ('Umumnya', 'NN'), ('bahwa', 'SC'), ('mereka', 'PRP'), ('tidak', 'NEG'), ('bisa', 'MD'), ('berkampanye', 'VBI'), ('di', 'IN'), ('hari', 'NN'), ('kerja', 'NN'), ('.', '.')], [('Sejak', 'IN'), ('awal', 'JJ'), (',', ','), ('kata', 'VBT'), ('Agung', 'JJ'), (',', ','), ('Menteri', 'NN'), ('berasal', 'VBI'), ('dari', 'IN'), ('Golkar', 'NNP'), ('sudah', 'MD'), ('mengungkapkan', 'VBT'), ('hal', 'NN'), ('itu', 'DT'), ('kepada', 'IN'), ('Aburizal', 'NNP'), ('Bakrie', 'NNP'), ('.', '.')], [('\"', '\"'), ('Sudah', 'MD'), ('ada', 'VBI'), ('dari', 'IN'), ('awal', 'JJ'), ('sudah', 'MD'), ('kami', 'PRP'), ('sampaikan', 'VBT'), ('pada', 'IN'), ('ketum', 'NN'), ('bahwa', 'SC'), ('sejak', 'IN'), ('awal', 'JJ'), ('kita', 'PRP'), ('nggak', 'NN'), ('mungkin', 'RB'), ('lagi', 'RB'), ('berkegiatan', 'VBI'), ('pada', 'IN'), ('hari', 'NN'), ('-', '-'), ('hari', 'NN'), ('kerja,', 'NN'), ('\"', '\"'), ('tegas', 'NN'), ('Agung', 'JJ'), ('kepada', 'IN'), ('wartawan', 'NN'), ('termasuk', 'VBT'), ('Tribunnews.com', 'NNP'), (',', ','), ('di', 'IN'), ('Kompleks', 'NN'), ('Istana', 'NN'), ('Negara', 'NN'), (',', ','), ('Jakarta', 'NNP'), (',', ','), ('Selasa', 'NN'), ('(', 'OP'), ('29/1/2013)', '1'), ('.', '.')], [('Karena', 'CC'), ('itu', 'DT'), (',', ','), ('dia', 'PRP'), ('meminta', 'VBT'), ('agar', 'IN'), ('masyarakat', 'NN'), ('tidak', 'NEG'), ('perlu', 'MD'), ('khawatir', 'JJ'), ('bahwa', 'SC'), ('Menteri', 'NN'), ('tidak', 'NEG'), ('akan', 'MD'), ('fokus', 'NN'), ('berkerja', 'NN'), ('.', '.')], [('\"', '\"'), ('Tidak', 'NEG'), ('usah', 'VBI'), ('khawatir', 'JJ'), ('mengganggu', 'VBT'), ('kinerja', 'NN'), ('.', '.'), ('Sistem', 'NN'), ('ini', 'DT'), ('berjalan', 'VBI'), ('kok', 'NN'), ('.', '.'), ('Setiap', 'DT'), ('-', '-'), ('tiap', 'NN'), ('kementerian', 'NN'), ('berjalan,', 'CDI'), ('\"', '\"'), ('dia', 'PRP'), ('tegaskan', 'NN'), ('.', '.')], [('Kembali', 'RB'), ('dia', 'PRP'), ('pastikan', 'NN'), (',', ','), ('bahwa', 'SC'), ('Partai', 'NN'), ('Golkar', 'NNP'), ('pun', 'RP'), ('tidak', 'NEG'), ('akan', 'MD'), ('\"', '\"'), ('mengganggu', 'VBT'), ('\"', '\"'), ('Kadernya', 'NN'), ('yang', 'SC'), ('di', 'IN'), ('Kabinet', 'NN'), ('untuk', 'IN'), ('urusan', 'NN'), ('Kampanye', 'NN'), ('Pemilu', 'NN'), ('2014', 'CDP'), ('.', '.')], [('\"', '\"'), ('Partai', 'NN'), ('kami', 'PRP'), ('tetap', 'JJ'), ('minta', 'VBI'), ('bekerja', 'VBI'), ('untuk', 'IN'), ('rakyat', 'NN'), ('.', '.'), ('Bahkan', 'RB'), ('memicu', 'VBT'), ('kami', 'PRP'), ('karena', 'CC'), ('ada', 'VBI'), ('target', 'NN'), ('-', '-'), ('target', 'NN'), ('yang', 'SC'), ('diawasi', 'VBT'), ('oleh', 'IN'), ('UKP4,', 'NN'), ('\"', '\"'), ('jelasnya', 'JJ'), ('lagi', 'RB'), ('.', '.')], [('Sebelumnya', 'NNG'), (',', ','), ('Lingkaran', 'NN'), ('Survei', 'NN'), ('Indoensia', 'NNP'), ('(', 'OP'), ('LSI', 'NNP'), (')', 'CP'), ('melakukan', 'VBT'), ('survei', 'NN'), ('terkait', 'VBT'), ('kinerja', 'NN'), ('Kabinet', 'NN'), ('Indonesia', 'NNP'), ('Bersatu', 'NN'), ('(', 'OP'), ('KIB', 'NNP'), (')', 'CP'), ('II', 'CDO'), ('memasuki', 'VBT'), ('tahun', 'NN'), ('politik', 'NN'), ('.', '.')], [('Mayoritas', 'NN'), ('responden', 'NN'), ('khawatir', 'JJ'), ('menteri', 'NN'), ('parpol', 'DT'), ('tak', 'NEG'), ('lagi', 'RB'), ('fokus', 'NN'), ('bekerja', 'VBI'), ('di', 'IN'), ('tahun', 'NN'), ('politik', 'NN'), ('.', '.')], [('\"', '\"'), ('Mayoritas', 'NN'), ('publik', 'NN'), ('khawatir', 'JJ'), ('pada', 'IN'), ('menteri', 'NN'), ('dari', 'IN'), ('parpol', 'DT'), ('tidak', 'NEG'), ('lagi', 'RB'), ('fokus', 'NN'), ('menjalankan', 'VBT'), ('tugas', 'NN'), ('di', 'IN'), ('kementerian,', 'NN'), ('\"', '\"'), ('ujar', 'VBT'), ('peneliti', 'NN'), ('LSI', 'NNP'), (',', ','), ('Ardian', 'NNP'), ('Sofa', 'NNP'), (',', ','), ('menyampaikan', 'VBT'), ('poin', 'NN'), ('kesimpulan', 'NN'), ('survei', 'NN'), ('LSI', 'NN'), ('di', 'IN'), ('Kantor', 'NN'), ('Lingkaran', 'NN'), ('Survei', 'NN'), ('Indonesia', 'NNP'), ('di', 'IN'), ('Jl', 'NN'), ('Pramuka', 'NNP'), (',', ','), ('Jakarta', 'NNP'), ('Timur', 'NN'), (',', ','), ('Selasa', 'NN'), ('(', 'OP'), ('29/1/2013)', '1'), ('.', '.')], [('Berdasarkan', 'VBT'), ('survei', 'NN'), ('yang', 'SC'), ('dilakukan', 'VBT'), ('oleh', 'IN'), ('LSI', 'NNP'), (',', ','), ('sebanyak', 'CDI'), ('86,35', 'CDP'), ('persen', 'NN'), ('responden', 'NN'), ('khawatir', 'JJ'), ('menteri', 'NN'), ('dari', 'IN'), ('parpol', 'DT'), ('tak', 'NEG'), ('lagi', 'RB'), ('fokus', 'NN'), ('bekerja', 'VBI'), (',', ','), ('sementara', 'CC'), ('10,79', 'CDP'), ('persen', 'NN'), ('responden', 'NN'), ('percaya', 'JJ'), ('para', 'DT'), ('menteri', 'NN'), ('parpol', 'DT'), ('masih', 'RB'), ('bisa', 'MD'), ('bekerja', 'VBI'), ('dengan', 'IN'), ('baik', 'JJ'), ('.', '.')], [('Sementara', 'CC'), ('sebanyak', 'CDI'), ('2,86', 'CDP'), ('persen', 'NN'), ('responden', 'NN'), ('menjawab', 'VBT'), ('tidak', 'NEG'), ('tahu', 'VBI'), ('.', '.')], [('Survei', 'NN'), ('dilakukan', 'VBT'), ('pada', 'IN'), ('22', 'CDP'), ('-', '-'), ('25', 'CDP'), ('Januari', 'NN'), ('2013', 'CDP'), (',', ','), ('dengan', 'IN'), ('motede', 'NN'), ('multistage', 'NN'), ('random', 'NN'), ('sampling', 'JJ'), ('dengan', 'IN'), ('1200', 'CDP'), ('responden', 'NN'), ('yang', 'SC'), ('tersebar', 'VBI'), ('di', 'IN'), ('seluruh', 'CDI'), ('Indonesia', 'NNP'), ('.', '.')], [('Wawancara', 'NN'), ('menggunakan', 'VBT'), ('metode', 'NN'), ('handset', 'RB'), ('dengan', 'IN'), ('margin', 'NN'), ('error', 'NN'), ('2,9', 'CDP'), ('persen', 'NN'), ('.', '.')], [('Politikus', 'NN'), ('PDI', 'NN'), ('Perjuangan', 'NN'), ('Guruh', 'NN'), ('Soekarnoputra', 'NNP'), ('menjenguk', 'VBT'), ('Ketua', 'NN'), ('Umum', 'JJ'), ('Partai', 'NN'), ('Gerindra', 'NNP'), ('Suhardi', 'NNP'), ('di', 'IN'), ('Rumah', 'NN'), ('Sakit', 'JJ'), ('Pusat', 'NN'), ('Pertamina', 'NN'), (',', ','), ('Jakarta', 'NNP'), ('Pusat', 'NN'), ('.', '.')], [('Suhardi', 'NNP'), ('mengalami', 'VBT'), ('sakit', 'JJ'), ('kanker', 'NN'), ('paru', 'NN'), ('-', '-'), ('paru', 'NN'), ('stadium', 'NN'), ('empat', 'CDP'), ('dan', 'CC'), ('dalam', 'IN'), ('kondisi', 'NN'), ('kritis', 'JJ'), ('.', '.')], [('Guruh', 'NNP'), ('berbagi', 'VBI'), ('sedikit', 'JJ'), ('cerita', 'NN'), ('mengenai', 'VBT'), ('sosok', 'NNP'), ('Suhardi', 'NNP'), ('sebagai', 'IN'), ('politikus', 'NN'), ('.', '.')], [('\"', '\"'), ('Pak', 'NNP'), ('Suhardi', 'NNP'), ('itu', 'DT'), ('bawaannya', 'NN'), ('kalem', 'NN'), ('.', '.'), ('Tenanglah', 'NNP'), ('Pak', 'NNP'), ('Suhardi,', 'NNP'), ('\"', '\"'), ('kata', 'VBT'), ('dia', 'PRP'), ('usai', 'VBI'), ('menjenguk', 'VBT'), ('Suhardi', 'NNP'), ('di', 'IN'), ('RSPP', 'NNP'), (',', ','), ('Jakarta', 'NNP'), (',', ','), ('Selasa', 'NN'), (',', ','), ('26', 'CDP'), ('Agustus', 'NN'), ('2014', 'CDP'), ('.', '.')], [('Ada', 'VBI'), ('satu', 'CDP'), ('hal', 'NN'), ('yang', 'SC'), ('paling', 'RB'), ('diingat', 'VBT'), ('Guruh', 'NN'), ('mengenai', 'VBT'), ('guru', 'NN'), ('besar', 'JJ'), ('Fakultas', 'NNP'), ('Kehutanan', 'NN'), ('Universitas', 'NN'), ('Gadjah', 'NN'), ('Mada', 'NN'), ('itu', 'DT'), ('.', '.')], [('Suhardi', 'NN'), ('pantang', 'NN'), ('makan', 'VBT'), ('makanan', 'NN'), ('yang', 'SC'), ('terbuat', 'VBI'), ('dari', 'IN'), ('gandum', 'NN'), ('.', '.')], [('\"', '\"'), ('Pak', 'NNP'), ('Suhardi', 'NNP'), ('berpantang', 'VBI'), ('untuk', 'IN'), ('makan', 'VBT'), ('gandum', 'NN'), (',', ','), ('roti', 'NN'), ('ataupun', 'CC'), ('mi', 'NN'), ('.', '.'), ('Atau', 'CC'), ('apa', 'WP'), ('pun', 'RP'), ('yang', 'SC'), ('terbuat', 'VBI'), ('dari', 'IN'), ('gandum,', 'NN'), ('\"', '\"'), ('kata', 'VBT'), ('dia', 'PRP'), ('tanpa', 'RB'), ('menjelaskan', 'VBI'), ('lebih', 'RB'), ('jauh', 'JJ'), ('alasannya', 'NN'), ('.', '.')], [('Sebelum', 'SC'), ('bergabung', 'VBI'), ('di', 'IN'), ('Partai', 'NN'), ('Gerindra', 'NN'), ('dan', 'CC'), ('menjabat', 'VBT'), ('sebagai', 'IN'), ('ketua', 'NN'), ('umum', 'JJ'), (',', ','), ('Suhardi', 'NN'), ('sibuk', 'JJ'), ('sebagai', 'IN'), ('akademikus', 'NN'), ('.', '.')], [('Pernah', 'NN'), ('menjabat', 'VBT'), ('sebagai', 'IN'), ('Dekan', 'NN'), ('Fakultas', 'NNP'), ('Kehutanan', 'NN'), ('UGM', 'NN'), (',', ','), ('ia', 'PRP'), ('meninggalkan', 'VBT'), ('sejumlah', 'CDI'), ('karya', 'NN'), ('dan', 'CC'), ('pemikiran', 'NN'), ('.', '.')], [('Ia', 'PRP'), ('juga', 'RB'), ('dikenal', 'VBT'), ('di', 'IN'), ('kampus', 'NN'), ('sebagai', 'IN'), ('profesor', 'NN'), ('telo', 'NN'), ('(', 'OP'), ('ketela', 'NN'), (')', 'CP'), ('karena', 'CC'), ('tidak', 'NEG'), ('pernah', 'RB'), ('bosan', 'MD'), ('mengkampanyekan', 'VBT'), ('untuk', 'IN'), ('mengkonsumsi', 'VBT'), ('bahan', 'NN'), ('pangan', 'NN'), ('lokal', 'NN'), ('tersebut', 'DT'), ('.', '.')], [('Sekretaris', 'NN'), ('Kabinet', 'NN'), ('Andi', 'NNP'), ('Widjajanto', 'NNP'), ('mengatakan', 'VBI'), ('Presiden', 'NN'), ('Joko', 'NNP'), ('Widodo', 'NNP'), ('telah', 'MD'), ('memilih', 'VBT'), ('politikus', 'NN'), ('Partai', 'NN'), ('NasDem', 'NNP'), (',', ','), ('H.', 'NN'), ('M.', 'NNP')], [('Prasetyo', 'NNP'), (',', ','), ('untuk', 'IN'), ('menjadi', 'VBT'), ('Jaksa', 'NNP'), ('Agung', 'JJ'), ('.', '.')], [('Keputusan', 'NN'), ('tersebut', 'DT'), ('diambil', 'VBT'), ('Presiden', 'NN'), ('Joko', 'NNP'), ('Widodo', 'NNP'), ('pagi', 'NN'), ('tadi', 'RB'), ('.', '.')], [('\"', '\"'), ('Benar', 'JJ'), (',', ','), ('Jaksa', 'NNP'), ('Agung', 'JJ'), ('Prasetyo', 'NNP'), ('.', '.'), ('Tadi', 'RB'), ('pagi', 'NN'), ('(', 'OP'), ('keputusannya),', 'IN'), ('\"', '\"'), ('kata', 'VBT'), ('Andi', 'NNP'), ('kepada', 'IN'), ('Tempo', 'NNP'), ('di', 'IN'), ('Jakarta', 'NNP'), (',', ','), ('Kamis', 'NN'), (',', ','), ('20', 'CDP'), ('November', 'NN'), ('2014', 'CDP'), ('.', '.')], [('Andi', 'PRP'), ('mengatakan', 'VBI'), ('keputusan', 'NN'), ('presiden', 'NN'), ('(', 'OP'), ('keppres', 'NN'), (')', 'CP'), ('telah', 'MD'), ('disiapkan', 'VBT'), ('mengenai', 'VBT'), ('pengangkatan', 'NN'), ('Prasetyo', 'NNP'), ('sebagai', 'IN'), ('Jaksa', 'NNP'), ('Agung', 'JJ'), ('untuk', 'IN'), ('mengganti', 'VBT'), ('Basrief', 'NNP'), ('Arief', 'NNP'), ('.', '.')], [('\"', '\"'), ('Keppresnya', 'NN'), ('sudah', 'MD'), ('keluar', 'VBI'), (',', ','), ('nomornya', 'NN'), ('nanti', 'NN'), ('saja', 'RB'), ('setelah', 'SC'), ('dilantik,', 'VBT'), ('\"', '\"'), ('katanya', 'VBT'), ('.', '.')], [('Andi', 'PRP'), ('mengatakan', 'VBI'), ('Jokowi', 'NNP'), ('rencananya', 'NNG'), ('melantik', 'VBT'), ('Prasetyo', 'NNP'), ('sebagai', 'IN'), ('Jaksa', 'NNP'), ('Agung', 'JJ'), ('pada', 'IN'), ('siang', 'NN'), ('ini', 'DT'), ('pukul', 'NN'), ('14.00', 'JJ'), ('di', 'IN'), ('Istana', 'NN'), ('Negara', 'NN'), ('.', '.')], [('Prasetyo', 'NNP'), ('merupakan', 'VBT'), ('politikus', 'NN'), ('Partai', 'NN'), ('NasDem', 'NNP'), ('yang', 'SC'), ('kini', 'RB'), ('menjadi', 'VBT'), ('anggota', 'NN'), ('DPR', 'NN'), ('periode', 'NN'), ('2014', 'CDP'), ('-', '-'), ('2019', 'CDP'), (',', ','), ('yang', 'SC'), ('terpilih', 'VBI'), ('dari', 'IN'), ('daerah', 'NN'), ('pemilihan', 'NN'), ('Jawa', 'NN'), ('Tengah', 'NN'), ('II', 'CDO'), ('.', '.')], [('Prasetyo', 'NNP'), ('tak', 'NEG'), ('sepenuhnya', 'RB'), ('politikus', 'NN'), ('.', '.')], [('Sebelum', 'SC'), ('menjadi', 'VBT'), ('anggota', 'NN'), ('Dewan', 'NN'), ('Perwakilan', 'NN'), ('Rakyat', 'NN'), (',', ','), ('Prasetyo', 'NNP'), ('juga', 'RB'), ('seorang', 'NN'), ('jaksa', 'NN'), ('.', '.')], [('Ia', 'PRP'), ('pernah', 'RB'), ('menjabat', 'VBT'), ('sebagai', 'IN'), ('Jaksa', 'NNP'), ('Agung', 'JJ'), ('Muda', 'JJ'), ('Pidana', 'NNP'), ('Umum', 'JJ'), ('tahun', 'NN'), ('2005', 'CDP'), ('-', '-'), ('2006', 'CDP'), ('serta', 'CC'), ('pernah', 'RB'), ('menjadi', 'VBT'), ('Kepala', 'NN'), ('Kejaksaan', 'NN'), ('Tinggi', 'JJ'), ('Sulawesi', 'NN'), ('Selatan', 'NN'), ('.', '.')], [('Selama', 'IN'), ('menjadi', 'VBT'), ('jaksa', 'NN'), (',', ','), ('tak', 'NEG'), ('ada', 'VBI'), ('rekam', 'NN'), ('jejak', 'NN'), ('yang', 'SC'), ('menonjol', 'VBT'), ('dari', 'IN'), ('pria', 'NN'), ('yang', 'SC'), ('diusung', 'VBT'), ('oleh', 'IN'), ('Ketua', 'NN'), ('Umum', 'JJ'), ('NasDem', 'NNP'), ('Surya', 'NNP'), ('Paloh', 'NNP'), ('itu', 'DT'), ('.', '.')], [('Hal', 'NN'), ('ini', 'DT'), ('membuat', 'VBT'), ('kompetensi', 'NN'), ('Prasetyo', 'NNP'), ('diragukan', 'VBT'), ('oleh', 'IN'), ('lembaga', 'NN'), ('-', '-'), ('lembaga', 'NN'), ('antikorupsi', 'NN'), (',', ','), ('seperti', 'IN'), ('Indonesia', 'NNP'), ('Corruption', 'NNP'), ('Watch', 'NNP'), ('.', '.')], [('Sebelumnya', 'NNG'), (',', ','), ('selain', 'SC'), ('Prasetyo', 'NNP'), (',', ','), ('muncul', 'VBT'), ('beberapa', 'CDI'), ('nama', 'NN'), ('calon', 'NN'), ('Jaksa', 'NNP'), ('Agung', 'JJ'), (',', ','), ('seperti', 'IN'), ('Kepala', 'NN'), ('Pusat', 'NN'), ('Pelaporan', 'NN'), ('dan', 'CC'), ('Analisis', 'NN'), ('Transaksi', 'NN'), ('Keuangan', 'NN'), ('Muhammad', 'NNP'), ('Yusuf', 'NNP'), (',', ','), ('serta', 'CC'), ('dari', 'IN'), ('internal', 'NN'), ('Kejaksaan', 'NN'), ('ada', 'VBI'), ('Widyo', 'NNP'), ('Pramono', 'NNP'), ('dan', 'CC'), ('Andhi', 'NNP'), ('Nirwanto', 'NNP'), ('.', '.')], [('Presiden', 'NN'), ('Partai', 'NN'), ('Keadilan', 'NN'), ('Sejahtera', 'NN'), ('Anis', 'NNP'), ('Matta', 'NNP'), ('hanya', 'RB'), ('bisa', 'MD'), ('tersenyum', 'VBT'), ('ketika', 'SC'), ('ditanya', 'VBT'), ('soal', 'NN'), ('pencalonannya', 'NN'), ('sebagai', 'IN'), ('presiden', 'NN'), ('pada', 'IN'), ('Pemilu', 'NN'), ('2014', 'CDP'), ('.', '.')], [('Saat', 'NN'), ('ini', 'DT'), (',', ','), ('kata', 'VBT'), ('Anis', 'NNP'), (',', ','), ('ia', 'PRP'), ('fokus', 'NN'), ('pada', 'IN'), ('pemenangan', 'NN'), ('PKS', 'NN'), ('pada', 'IN'), ('Pemilu', 'NN'), ('Legislatif', 'NN'), ('2014', 'CDP'), ('.', '.')], [('\"', '\"'), ('Soal', 'NN'), ('calon', 'NN'), ('presiden', 'NN'), ('itu', 'DT'), ('urusan', 'NN'), ('nanti', 'NN'), (',', ','), ('yang', 'SC'), ('penting', 'JJ'), ('menang', 'VBT'), ('dulu', 'RB'), ('lah,', 'NN'), ('\"', '\"'), ('kata', 'VBT'), ('Anis', 'NNP'), ('di', 'IN'), ('Samarinda', 'NNP'), (',', ','), ('Kalimantan', 'NN'), ('Timur', 'NN'), (',', ','), ('Selasa', 'NN'), ('(', 'OP'), ('29/10/2013)', '10'), ('.', '.')], [('Ia', 'PRP'), ('menegaskan', 'VBT'), (',', ','), ('PKS', 'NN'), ('belum', 'NEG'), ('membahas', 'VBT'), ('soal', 'NN'), ('bakal', 'MD'), ('calon', 'NN'), ('presiden', 'NN'), ('pada', 'IN'), ('Pemilu', 'NN'), ('2014', 'CDP'), ('.', '.')], [('Ia', 'PRP'), ('menekankan', 'VBT'), ('pentingnya', 'NNG'), ('Pemilu', 'NN'), ('Legislatif', 'NN'), ('2014', 'CDP'), ('.', '.')], [('Pasalnya', 'NNP'), (',', ','), ('perolehan', 'NN'), ('pada', 'IN'), ('tahapan', 'NN'), ('tersebut', 'DT'), ('menentukan', 'VBT'), ('apakah', 'WP'), ('PKS', 'NNP'), ('dapat', 'MD'), ('mengajukan', 'VBT'), ('calon', 'NN'), ('presiden', 'NN'), ('sendiri', 'JJ'), ('.', '.')], [('Sesuai', 'RB'), ('UU', 'NN'), ('Pemilu', 'NN'), ('Presiden', 'NN'), (',', ','), ('pasangan', 'NN'), ('calon', 'NN'), ('presiden', 'NN'), ('-', '-'), ('calon', 'NN'), ('wakil', 'NN'), ('presiden', 'NN'), ('dapat', 'MD'), ('diajukan', 'VBT'), ('oleh', 'IN'), ('partai', 'NN'), ('politik', 'NN'), ('atau', 'CC'), ('gabungan', 'NN'), ('partai', 'NN'), ('politik', 'NN'), ('yang', 'SC'), ('memeroleh', 'VBT'), ('20', 'CDP'), ('persen', 'NN'), ('suara', 'NN'), ('pada', 'IN'), ('pemilu', 'NN'), ('legislatif', 'JJ'), ('.', '.')], [('Beberapa', 'CDI'), ('parpol', 'NN'), ('yang', 'SC'), ('telah', 'MD'), ('mengusung', 'VBT'), ('bakal', 'MD'), ('calon', 'NN'), ('presiden', 'NN'), ('adalah', 'VBT'), (',', ','), ('di', 'IN'), ('antaranya', 'NNG'), (',', ','), ('Golkar', 'NNP'), (',', ','), ('PAN', 'NN'), (',', ','), ('dan', 'CC'), ('Hanura', 'NNP'), ('.', '.')], [('Ketiga', 'CDO'), ('bakal', 'MD'), ('calon', 'NN'), ('presiden', 'NN'), ('itu', 'DT'), (',', ','), ('masing', 'NN'), ('-', '-'), ('masing', 'NN'), (',', ','), ('Aburizal', 'NNP'), ('\"', '\"'), ('Ical', 'NN'), ('\"', '\"'), ('Bakrie', 'NNP'), (',', ','), ('Hatta', 'NNP'), ('Rajasa', 'NNP'), (',', ','), ('dan', 'CC'), ('Wiranto', 'NNP'), ('.', '.')], [('Kuasa', 'NN'), ('hukum', 'NN'), ('pasangan', 'NN'), ('calon', 'NN'), ('presiden', 'NN'), ('-', '-'), ('wakil', 'NN'), ('presiden', 'NN'), ('Prabowo', 'NNP'), ('Subianto', 'NNP'), ('-', '-'), ('Hatta', 'NNP'), ('Rajasa', 'NNP'), (',', ','), ('Firman', 'NNP'), ('Wijaya', 'NNP'), (',', ','), ('mengatakan', 'VBI'), ('timnya', 'NNG'), ('menggugat', 'VBT'), ('Komisi', 'NN'), ('Pemilihan', 'NN'), ('Umum', 'JJ'), ('ke', 'IN'), ('Pengadilan', 'NN'), ('Negeri', 'NN'), ('Jakarta', 'NNP'), ('Pusat', 'NN'), ('.', '.')], [('Firman', 'NNP'), ('meyakini', 'VBT'), ('ada', 'VBI'), ('perbuatan', 'NN'), ('melawan', 'VBT'), ('hukum', 'NN'), ('yang', 'SC'), ('dilakukan', 'VBT'), ('KPU', 'NN'), ('.', '.')], [('Dengan', 'IN'), ('gugatan', 'NN'), ('tersebut', 'DT'), (',', ','), ('terhitung', 'VBT'), ('sudah', 'MD'), ('ada', 'VBI'), ('tiga', 'CDP'), ('institusi', 'NN'), ('yang', 'SC'), ('menjadi', 'VBT'), ('tujuan', 'NN'), ('bagi', 'IN'), ('tim', 'NN'), ('Prabowo', 'NNP'), ('-', '-'), ('Hatta', 'NNP'), ('untuk', 'IN'), ('melayangkan', 'VBT'), ('tuntutan', 'NN'), ('mereka', 'PRP'), ('.', '.')], [('Sebelumnya', 'NNG'), (',', ','), ('Prabowo', 'NNP'), ('-', '-'), ('Hatta', 'NNP'), ('menggugat', 'VBT'), ('ke', 'IN'), ('Mahkamah', 'NN'), ('Konstitusi', 'NN'), ('dan', 'CC'), ('Dewan', 'NN'), ('Kehormatan', 'NN'), ('Penyelenggara', 'NN'), ('Pemilu', 'NN'), ('.', '.')], [('\"', '\"'), ('Dasar', 'NN'), ('gugatan', 'NN'), ('yaitu', 'SC'), ('kerugian', 'NN'), ('materiil', 'NN'), ('dan', 'CC'), ('imateriil', 'NN'), ('yang', 'SC'), ('dialami', 'VBT'), ('delapan', 'CDP'), ('klien', 'NN'), ('kami', 'PRP'), ('karena', 'CC'), ('KPU', 'NNP'), ('melakukan', 'VBT'), ('pemilu', 'NN'), ('9', 'CDP'), ('Juli', 'NN'), ('2014,', 'NN'), ('\"', '\"'), ('kata', 'VBT'), ('Firman', 'NN'), ('saat', 'SC'), ('dihubungi', 'VBT'), (',', ','), ('Sabtu', 'NN'), (',', ','), ('16', 'CDP'), ('Agustus', 'NN'), ('2014', 'CDP'), ('.', '.')], [('\"', '\"'), ('KPU', 'NNP'), ('digugat', 'VBT'), ('karena', 'CC'), ('merupakan', 'VBT'), ('konsekuensi', 'NN'), ('dari', 'IN'), ('institusi', 'NN'), ('.', '.'), ('\"', '\"'), ('Firman', 'NNP'), ('belum', 'NEG'), ('menjelaskan', 'VBI'), ('profil', 'NN'), ('kedelapan', 'CDC'), ('orang', 'NN'), ('tersebut', 'DT'), ('.', '.')], [('\"', '\"'), ('Delapan', 'CDP'), ('orang', 'NN'), ('itu', 'DT'), ('merasa', 'VBT'), ('dirugikan', 'VBT'), ('lantaran', 'NN'), ('pada', 'IN'), ('9', 'CDP'), ('Juli', 'NN'), ('2014', 'CDP'), ('kehilangan', 'VBT'), ('pendapatan', 'NN'), ('karena', 'CC'), ('ada', 'VBI'), ('penyelenggaraan', 'NN'), ('pemilu', 'NN'), ('presiden,', 'NN'), ('\"', '\"'), ('ujar', 'VBT'), ('Firman', 'NN'), ('.', '.')], [('Dia', 'PRP'), ('mengatakan', 'VBI'), (',', ','), ('pada', 'IN'), ('hari', 'NN'), ('-', '-'), ('hari', 'NN'), ('biasa', 'JJ'), (',', ','), ('delapan', 'CDP'), ('orang', 'NN'), ('itu', 'DT'), ('mendapat', 'VBT'), ('penghasilan', 'NN'), ('sekitar', 'CDI'), ('Rp', 'CDP'), ('100', 'CDP'), ('ribu', 'CDP'), ('per', 'NN'), ('hari', 'NN'), ('.', '.')], [('\"', '\"'), ('Mereka', 'PRP'), ('memberikan', 'VBT'), ('kuasa', 'NN'), ('kepada', 'IN'), ('kami', 'PRP'), ('atas', 'IN'), ('kerugian', 'NN'), ('yang', 'SC'), ('mereka', 'PRP'), ('alami', 'NN'), ('.', '.'), ('\"', '\"'), ('Menurut', 'VBT'), ('Firman', 'NNP'), (',', ','), ('gugatan', 'NN'), ('tim', 'NN'), ('hukum', 'NN'), ('Prabowo', 'NNP'), ('-', '-'), ('Hatta', 'NNP'), ('ke', 'IN'), ('PN', 'NN'), ('Jakarta', 'NNP'), ('Pusat', 'NN'), ('berbeda', 'JJ'), ('dengan', 'IN'), ('gugatan', 'NN'), ('ke', 'IN'), ('Mahkamah', 'NN'), ('Konstitusi', 'NN'), ('ataupun', 'CC'), ('ke', 'IN'), ('Dewan', 'NN'), ('Kehormatan', 'NN'), ('Penyelenggara', 'NN'), ('Pemilu', 'NN'), ('.', '.')], [('\"', '\"'), ('Gugatan', 'NNP'), ('ke', 'IN'), ('PN', 'NN'), ('Jakpus', 'NNP'), ('berada', 'VBI'), ('pada', 'IN'), ('ranah', 'NN'), ('pidana,', 'NN'), ('\"', '\"'), ('kata', 'VBT'), ('Firman', 'NN'), ('.', '.')], [('Firman', 'NNP'), ('berharap', 'VBT'), ('temuan', 'NN'), ('dugaan', 'NN'), ('pelanggaran', 'NN'), ('hukum', 'NN'), ('yang', 'SC'), ('diklaimnya', 'VBT'), ('bisa', 'MD'), ('dibuktikan', 'VBT'), ('di', 'IN'), ('persidangan', 'NN'), ('PN', 'NN'), ('Jakarta', 'NNP'), ('Pusat', 'NN'), ('.', '.')], [('Dia', 'PRP'), ('juga', 'RB'), ('meminta', 'VBT'), ('Pengadilan', 'NN'), ('cepat', 'JJ'), ('merespons', 'VBT'), ('gugatan', 'NN'), ('tersebut', 'DT'), ('.', '.')], [('Hasil', 'NN'), ('persidangan', 'NN'), ('atas', 'IN'), ('gugatan', 'NN'), ('tersebut', 'DT'), (',', ','), ('menurut', 'VBT'), ('Firman', 'NNP'), (',', ','), ('tak', 'NEG'), ('bisa', 'MD'), ('menjadi', 'VBT'), ('novum', 'NN'), ('untuk', 'IN'), ('menggugat', 'VBT'), ('hasil', 'NN'), ('pemilihan', 'NN'), ('presiden', 'NN'), ('ke', 'IN'), ('Mahkamah', 'NN'), ('Konstitusi', 'NN'), ('.', '.')], []]\n"
          ],
          "name": "stdout"
        }
      ]
    },
    {
      "cell_type": "code",
      "metadata": {
        "id": "e3ltKet9NANm",
        "colab_type": "code",
        "colab": {}
      },
      "source": [
        "# fungsi untuk ekstraksi fitur dari sebuah kalimat\n",
        "def word2features(sent, i):  \n",
        "    word = sent[i][0]\n",
        "    postag = sent[i][1]\n",
        "    sentence = ''\n",
        "    for w in sent:\n",
        "      sentence += w[0] + \" \"\n",
        "    if word.lower() not in token_dict.keys(): \n",
        "        word = 'unk'\n",
        "    if postag not in postag_dict.keys():\n",
        "        postag = 'unk'\n",
        "    features = [\n",
        "        #token_dict[word.lower()], # fitur kata dalam bentuk lowercase\n",
        "        word.isupper(), # fitur apakah karakter pertama token merupakan huruf kapital\n",
        "        word.istitle(), # fitur apakah token merupakan title\n",
        "        word.isdigit(), # fitur apakah token merupakan digit\n",
        "        postag_dict[postag], # fitur kode postag token\n",
        "        #ord(word[0]) if len(word) > 1 else 0, #prefix 1 in ascii\n",
        "        #ord(word[-1]) if len(word) > 1 else 0, #suffix 1 in ascii\n",
        "        #ord(word[1]) if len(word) > 2 else 0, #prefix 2 in ascii\n",
        "        #ord(word[-2]) if len(word) > 2 else 0, #suffix 2 in ascii\n",
        "        #ord(word[2]) if len(word) > 3 else 0, #prefix 3 in ascii\n",
        "        #ord(word[-3]) if len(word) > 3 else 0, #suffix 3 in ascii\n",
        "        check_list(sentence,i - 1,per_list) if i > 0 else False,\n",
        "        check_list(sentence,i - 1,loc_list) if i > 0 else False,\n",
        "        check_list(sentence,i - 1,org_list) if i > 0 else False,\n",
        "        check_list(sentence,i + 1,per_list) if i < len(sent) - 1 else False,\n",
        "        check_list(sentence,i + 1,loc_list) if i < len(sent) - 1 else False,\n",
        "        check_list(sentence,i + 1,org_list) if i < len(sent) - 1 else False,\n",
        "        check_list(sentence,i,per_list), #check di list person\n",
        "        check_list(sentence,i,loc_list), #check di list location\n",
        "        check_list(sentence,i,org_list) #check di list organisation\n",
        "    ]\n",
        "                \n",
        "    return features\n",
        "\n",
        "def sent2features(sent):\n",
        "    return [word2features(sent, i) for i in range(len(sent))]\n",
        "\n",
        "def sent2labels(sent):\n",
        "    return [label for token, postag, label in sent]\n",
        "\n",
        "def sent2tokens(sent):\n",
        "    return [token for token, postag, label in sent]"
      ],
      "execution_count": 0,
      "outputs": []
    },
    {
      "cell_type": "code",
      "metadata": {
        "id": "nN67PSIMNCFK",
        "colab_type": "code",
        "colab": {}
      },
      "source": [
        "# ekstraksi fitur data train\n",
        "X_train = []\n",
        "y_train = []\n",
        "for s in train_sents:\n",
        "    for i in range(len(s)):\n",
        "        X_train.append(word2features(s,i))\n",
        "        y_train.append(s[i][2])\n",
        "# ekstraksi fitur data test\n",
        "X_test = []\n",
        "#y_test = []\n",
        "for s in test_sents:\n",
        "    for i in range(len(s)):\n",
        "        X_test.append(word2features(s,i))\n",
        "        #y_test.append(s[i][2])\n",
        "#print(X_train)\n",
        "#print(y_train)"
      ],
      "execution_count": 0,
      "outputs": []
    },
    {
      "cell_type": "code",
      "metadata": {
        "id": "B5W1cOnnNEjy",
        "colab_type": "code",
        "outputId": "fdbf1ddd-ec47-42f8-a66b-eccfe0eaa87b",
        "colab": {
          "base_uri": "https://localhost:8080/",
          "height": 35
        }
      },
      "source": [
        "X_train = np.array(X_train)\n",
        "y_train = np.array(y_train)\n",
        "\n",
        "X_test = np.array(X_test)\n",
        "#y_test = np.array(y_test)\n",
        "\n",
        "# train classifier\n",
        "from sklearn.naive_bayes import MultinomialNB\n",
        "clf = MultinomialNB()\n",
        "clf.fit(X_train, y_train)\n",
        "\n",
        "# Coba test, satu kata\n",
        "#print('xtest')\n",
        "#print(X_test[1])\n",
        "\n",
        "#print(clf.predict(X_test[1].reshape(1,-1)))\n",
        "# Coba test, keseluruhan data test\n",
        "#print('hasil klasifikasi data test:')\n",
        "res = clf.predict(X_test)\n",
        "file = open(folder+'klasifikasi_output.txt','w') \n",
        "cc = 0\n",
        "for s in test_sents:\n",
        "    for w in s:\n",
        "        file.write(w[0])\n",
        "        #print(w[0])\n",
        "        file.write('\\t')\n",
        "        #print(res[cc])\n",
        "        if res[cc] == 0:\n",
        "            file.write('O')\n",
        "            #print('O')\n",
        "        elif res[cc] == 1:\n",
        "            file.write('B-PER')\n",
        "            #print('B-PER')\n",
        "        elif res[cc] == 2:\n",
        "            file.write('I-PER')\n",
        "            #print('B-PER')\n",
        "        elif res[cc] == 3:\n",
        "            file.write('B-ORG')\n",
        "            #print('B-ORG')\n",
        "        elif res[cc] == 4:\n",
        "            file.write('I-ORG')\n",
        "            #print('I-ORG')\n",
        "        elif res[cc] == 5:\n",
        "            file.write('B-LOC')\n",
        "            #print('I-ORG')\n",
        "        elif res[cc] == 6:\n",
        "            file.write('I-LOC')\n",
        "            #print('I-LOC')\n",
        "        cc += 1\n",
        "        file.write('\\n')\n",
        "        #print('\\n')\n",
        "    file.write('\\n')\n",
        "    #print('\\n')\n",
        "print('finished')\n",
        "file.close()"
      ],
      "execution_count": 0,
      "outputs": [
        {
          "output_type": "stream",
          "text": [
            "finished\n"
          ],
          "name": "stdout"
        }
      ]
    },
    {
      "cell_type": "code",
      "metadata": {
        "id": "VP2uxkBYNKpu",
        "colab_type": "code",
        "colab": {}
      },
      "source": [
        ""
      ],
      "execution_count": 0,
      "outputs": []
    }
  ]
}